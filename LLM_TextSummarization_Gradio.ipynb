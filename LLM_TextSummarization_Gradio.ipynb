{
 "cells": [
  {
   "cell_type": "code",
   "execution_count": 1,
   "id": "9e8803c0",
   "metadata": {},
   "outputs": [],
   "source": [
    "import os\n",
    "import io\n",
    "from IPython.display import Image, display, HTML\n",
    "from PIL import Image\n",
    "import base64 \n",
    "from transformers import pipeline\n",
    "import gradio as gr"
   ]
  },
  {
   "cell_type": "code",
   "execution_count": 2,
   "id": "187463f9",
   "metadata": {},
   "outputs": [
    {
     "name": "stderr",
     "output_type": "stream",
     "text": [
      "/Users/behnazfakhar/anaconda3/envs/NLP/lib/python3.11/site-packages/transformers/utils/hub.py:374: FutureWarning: The `use_auth_token` argument is deprecated and will be removed in v5 of Transformers. Please use `token` instead.\n",
      "  warnings.warn(\n"
     ]
    }
   ],
   "source": [
    "get_completion = pipeline(\"summarization\", \n",
    "                          model=\"sshleifer/distilbart-cnn-12-6\",\n",
    "                          token=\"your token!\")\n",
    "\n",
    "def summarize(input):\n",
    "    output = get_completion(input)\n",
    "    return output[0]['summary_text']"
   ]
  },
  {
   "cell_type": "code",
   "execution_count": 3,
   "id": "4fde9cc2",
   "metadata": {},
   "outputs": [],
   "source": [
    "example_text = ('''Canada is a country in North America. \n",
    "           Its ten provinces and three territories extend from the Atlantic Ocean to \n",
    "           the Pacific Ocean and northward into the Arctic Ocean, making it the world's \n",
    "           second-largest country by total area, with the world's longest coastline. \n",
    "           Its border with the United States is the world's longest international land border. \n",
    "           The country is characterized by a wide range of both meteorologic and geological regions. \n",
    "           It is a sparsely inhabited country of 40 million people, the vast majority residing south of \n",
    "           the 55th parallel in urban areas. Canada's capital is Ottawa and its three largest metropolitan \n",
    "           areas are Toronto, Montreal, and Vancouver.''')"
   ]
  },
  {
   "cell_type": "code",
   "execution_count": 4,
   "id": "142caced",
   "metadata": {},
   "outputs": [
    {
     "data": {
      "text/plain": [
       "[{'summary_text': \" Canada is a sparsely inhabited country of 40 million people . Its border with the United States is the world's longest international land border . The country is characterized by a wide range of meteorologic and geological regions . Canada's capital is Ottawa and its three largest metropolitan areas are Toronto, Montreal, and Vancouver .\"}]"
      ]
     },
     "execution_count": 4,
     "metadata": {},
     "output_type": "execute_result"
    }
   ],
   "source": [
    "get_completion(example_text)"
   ]
  },
  {
   "cell_type": "code",
   "execution_count": 5,
   "id": "3dcce472",
   "metadata": {},
   "outputs": [
    {
     "name": "stdout",
     "output_type": "stream",
     "text": [
      "Running on local URL:  http://127.0.0.1:7862\n"
     ]
    },
    {
     "name": "stderr",
     "output_type": "stream",
     "text": [
      "huggingface/tokenizers: The current process just got forked, after parallelism has already been used. Disabling parallelism to avoid deadlocks...\n",
      "To disable this warning, you can either:\n",
      "\t- Avoid using `tokenizers` before the fork if possible\n",
      "\t- Explicitly set the environment variable TOKENIZERS_PARALLELISM=(true | false)\n"
     ]
    },
    {
     "name": "stdout",
     "output_type": "stream",
     "text": [
      "Running on public URL: https://447bd5e9995e1e711b.gradio.live\n",
      "\n",
      "This share link expires in 72 hours. For free permanent hosting and GPU upgrades, run `gradio deploy` from Terminal to deploy to Spaces (https://huggingface.co/spaces)\n"
     ]
    },
    {
     "data": {
      "text/html": [
       "<div><iframe src=\"https://447bd5e9995e1e711b.gradio.live\" width=\"100%\" height=\"500\" allow=\"autoplay; camera; microphone; clipboard-read; clipboard-write;\" frameborder=\"0\" allowfullscreen></iframe></div>"
      ],
      "text/plain": [
       "<IPython.core.display.HTML object>"
      ]
     },
     "metadata": {},
     "output_type": "display_data"
    },
    {
     "data": {
      "text/plain": []
     },
     "execution_count": 5,
     "metadata": {},
     "output_type": "execute_result"
    }
   ],
   "source": [
    "demo = gr.Interface(\n",
    "    fn=summarize,\n",
    "    inputs=[gr.Textbox(label=\"Input Text\", placeholder=\"Enter text to summarize\", lines=8)],\n",
    "    outputs=[gr.Textbox(label=\"Summary\", placeholder=\"Summary will appear here\", lines=4)],\n",
    "    title=\"Text Summarization with DistilBART\",\n",
    "    description=\"Summarize any text using the `shleifer/distilbart-cnn-12-6` model under the hood!\",\n",
    "    examples=[example_text])\n",
    "\n",
    "demo.launch(share=True)\n"
   ]
  },
  {
   "cell_type": "code",
   "execution_count": null,
   "id": "fbe324c2",
   "metadata": {},
   "outputs": [],
   "source": []
  }
 ],
 "metadata": {
  "kernelspec": {
   "display_name": "Python 3 (ipykernel)",
   "language": "python",
   "name": "python3"
  },
  "language_info": {
   "codemirror_mode": {
    "name": "ipython",
    "version": 3
   },
   "file_extension": ".py",
   "mimetype": "text/x-python",
   "name": "python",
   "nbconvert_exporter": "python",
   "pygments_lexer": "ipython3",
   "version": "3.11.5"
  }
 },
 "nbformat": 4,
 "nbformat_minor": 5
}
