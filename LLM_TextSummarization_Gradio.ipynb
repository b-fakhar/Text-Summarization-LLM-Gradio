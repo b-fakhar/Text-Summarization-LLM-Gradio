{
 "cells": [
  {
   "cell_type": "code",
   "execution_count": 2,
   "id": "9e8803c0",
   "metadata": {},
   "outputs": [],
   "source": [
    "import os\n",
    "import io\n",
    "from IPython.display import Image, display, HTML\n",
    "from PIL import Image\n",
    "import base64 \n",
    "from transformers import pipeline\n",
    "import gradio as gr"
   ]
  },
  {
   "cell_type": "code",
   "execution_count": 3,
   "id": "187463f9",
   "metadata": {},
   "outputs": [],
   "source": [
    "get_completion = pipeline(\"summarization\", \n",
    "                          model=\"sshleifer/distilbart-cnn-12-6\",\n",
    "                          token=\"Your Token\")\n",
    "\n",
    "def summarize(input):\n",
    "    output = get_completion(input)\n",
    "    return output[0]['summary_text']"
   ]
  },
  {
   "cell_type": "code",
   "execution_count": 4,
   "id": "4fde9cc2",
   "metadata": {},
   "outputs": [],
   "source": [
    "example_text = ('''Canada is a country in North America. \n",
    "           Its ten provinces and three territories extend from the Atlantic Ocean to \n",
    "           the Pacific Ocean and northward into the Arctic Ocean, making it the world's \n",
    "           second-largest country by total area, with the world's longest coastline. \n",
    "           Its border with the United States is the world's longest international land border. \n",
    "           The country is characterized by a wide range of both meteorologic and geological regions. \n",
    "           It is a sparsely inhabited country of 40 million people, the vast majority residing south of \n",
    "           the 55th parallel in urban areas. Canada's capital is Ottawa and its three largest metropolitan \n",
    "           areas are Toronto, Montreal, and Vancouver.''')"
   ]
  },
  {
   "cell_type": "code",
   "execution_count": 5,
   "id": "142caced",
   "metadata": {},
   "outputs": [
    {
     "data": {
      "text/plain": [
       "[{'summary_text': \" Canada is a sparsely inhabited country of 40 million people . Its border with the United States is the world's longest international land border . The country is characterized by a wide range of meteorologic and geological regions . Canada's capital is Ottawa and its three largest metropolitan areas are Toronto, Montreal, and Vancouver .\"}]"
      ]
     },
     "execution_count": 5,
     "metadata": {},
     "output_type": "execute_result"
    }
   ],
   "source": [
    "get_completion(example_text)"
   ]
  },
  {
   "cell_type": "code",
   "execution_count": 6,
   "id": "3dcce472",
   "metadata": {},
   "outputs": [],
   "source": [
    "gr.close_all()\n",
    "demo = gr.Interface(\n",
    "    fn=summarize,\n",
    "    inputs=[gr.Textbox(label=\"Input Text\", placeholder=\"Enter text to summarize\", lines=8)],\n",
    "    outputs=[gr.Textbox(label=\"Summary\", placeholder=\"Summary will appear here\", lines=4)],\n",
    "    title=\"Text Summarization with DistilBART\",\n",
    "    description=\"Summarize any text using the `shleifer/distilbart-cnn-12-6` model under the hood!\",\n",
    "    examples=[example_text])\n",
    "demo.launch(share=True)"
   ]
  }
 ],
 "metadata": {
  "kernelspec": {
   "display_name": "Python 3 (ipykernel)",
   "language": "python",
   "name": "python3"
  },
  "language_info": {
   "codemirror_mode": {
    "name": "ipython",
    "version": 3
   },
   "file_extension": ".py",
   "mimetype": "text/x-python",
   "name": "python",
   "nbconvert_exporter": "python",
   "pygments_lexer": "ipython3",
   "version": "3.11.5"
  }
 },
 "nbformat": 4,
 "nbformat_minor": 5
}
